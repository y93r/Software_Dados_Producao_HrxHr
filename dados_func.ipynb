{
 "cells": [
  {
   "cell_type": "markdown",
   "id": "f11bca07",
   "metadata": {},
   "source": [
    "# Criação de dados de funcionários\n",
    "\n",
    "A ideia é criar dados fictícios de no máximo 15 funcionários para colocar no projeto de [HR x HR](https://github.com/y93r/Software_Dados_Producao_Maquinas)"
   ]
  },
  {
   "cell_type": "code",
   "execution_count": 1,
   "id": "4c84ca35",
   "metadata": {},
   "outputs": [
    {
     "name": "stdout",
     "output_type": "stream",
     "text": [
      "Versão da Linguagem Python Usada Neste Jupyter Notebook: 3.11.5\n"
     ]
    }
   ],
   "source": [
    "#!pip install Faker\n",
    "\n",
    "#Versão da Linguagem Python\n",
    "from platform import python_version\n",
    "print('Versão da Linguagem Python Usada Neste Jupyter Notebook:', python_version())"
   ]
  },
  {
   "cell_type": "code",
   "execution_count": 2,
   "id": "16d018e6",
   "metadata": {},
   "outputs": [],
   "source": [
    "#Bibliotecas\n",
    "from faker import Faker\n",
    "import pandas as pd\n",
    "from datetime import datetime, date\n",
    "\n",
    "fake = Faker('pt_BR')\n",
    "dados = []"
   ]
  },
  {
   "cell_type": "code",
   "execution_count": 3,
   "id": "e215082c",
   "metadata": {},
   "outputs": [],
   "source": [
    "#função para criar um intervalo de data\n",
    "def criar_data():\n",
    "    data_inicio = datetime.date(datetime(2022, 1, 10))  #data limite de inicio\n",
    "    data_fim = date.today() #data limite para hoje\n",
    "    data_aleatoria = fake.date_between_dates(date_start=data_inicio, date_end=data_fim)  \n",
    "    data_formatada = data_aleatoria.strftime('%d/%m/%Y')\n",
    "    return data_formatada\n",
    "\n",
    "#função para criar matricula padronizada iniciando no nº5 e com 4 digitos\n",
    "def gerar_matricula():\n",
    "    matricula = fake.unique.random_number(digits=3)  #Gera um número de 3 dígitos\n",
    "    return f'5{matricula:03d}' #Iniciando sempre com o prefixo 5"
   ]
  },
  {
   "cell_type": "code",
   "execution_count": 4,
   "id": "a7b6146b",
   "metadata": {},
   "outputs": [
    {
     "data": {
      "text/html": [
       "<div>\n",
       "<style scoped>\n",
       "    .dataframe tbody tr th:only-of-type {\n",
       "        vertical-align: middle;\n",
       "    }\n",
       "\n",
       "    .dataframe tbody tr th {\n",
       "        vertical-align: top;\n",
       "    }\n",
       "\n",
       "    .dataframe thead th {\n",
       "        text-align: right;\n",
       "    }\n",
       "</style>\n",
       "<table border=\"1\" class=\"dataframe\">\n",
       "  <thead>\n",
       "    <tr style=\"text-align: right;\">\n",
       "      <th></th>\n",
       "      <th>Nome</th>\n",
       "      <th>Data de Admissão</th>\n",
       "      <th>Matricula</th>\n",
       "    </tr>\n",
       "  </thead>\n",
       "  <tbody>\n",
       "    <tr>\n",
       "      <th>0</th>\n",
       "      <td>Mariane Farias</td>\n",
       "      <td>05/11/2023</td>\n",
       "      <td>5648</td>\n",
       "    </tr>\n",
       "    <tr>\n",
       "      <th>1</th>\n",
       "      <td>Emanuel Castro</td>\n",
       "      <td>17/09/2022</td>\n",
       "      <td>5490</td>\n",
       "    </tr>\n",
       "    <tr>\n",
       "      <th>2</th>\n",
       "      <td>Bernardo Nunes</td>\n",
       "      <td>08/01/2023</td>\n",
       "      <td>5690</td>\n",
       "    </tr>\n",
       "    <tr>\n",
       "      <th>3</th>\n",
       "      <td>Emanuella Peixoto</td>\n",
       "      <td>27/10/2023</td>\n",
       "      <td>5624</td>\n",
       "    </tr>\n",
       "    <tr>\n",
       "      <th>4</th>\n",
       "      <td>Dr. Henrique Nascimento</td>\n",
       "      <td>27/03/2023</td>\n",
       "      <td>5946</td>\n",
       "    </tr>\n",
       "    <tr>\n",
       "      <th>5</th>\n",
       "      <td>Isaac Teixeira</td>\n",
       "      <td>05/09/2023</td>\n",
       "      <td>5702</td>\n",
       "    </tr>\n",
       "    <tr>\n",
       "      <th>6</th>\n",
       "      <td>Emanuel da Cruz</td>\n",
       "      <td>23/11/2023</td>\n",
       "      <td>5776</td>\n",
       "    </tr>\n",
       "    <tr>\n",
       "      <th>7</th>\n",
       "      <td>Eduardo Correia</td>\n",
       "      <td>05/06/2023</td>\n",
       "      <td>5171</td>\n",
       "    </tr>\n",
       "    <tr>\n",
       "      <th>8</th>\n",
       "      <td>Isabel Gomes</td>\n",
       "      <td>20/02/2022</td>\n",
       "      <td>5192</td>\n",
       "    </tr>\n",
       "    <tr>\n",
       "      <th>9</th>\n",
       "      <td>Kaique Pinto</td>\n",
       "      <td>30/12/2023</td>\n",
       "      <td>5572</td>\n",
       "    </tr>\n",
       "    <tr>\n",
       "      <th>10</th>\n",
       "      <td>Sophie Viana</td>\n",
       "      <td>24/11/2022</td>\n",
       "      <td>5913</td>\n",
       "    </tr>\n",
       "    <tr>\n",
       "      <th>11</th>\n",
       "      <td>Caio da Mota</td>\n",
       "      <td>02/03/2022</td>\n",
       "      <td>5675</td>\n",
       "    </tr>\n",
       "    <tr>\n",
       "      <th>12</th>\n",
       "      <td>Pedro Ramos</td>\n",
       "      <td>09/11/2023</td>\n",
       "      <td>5749</td>\n",
       "    </tr>\n",
       "    <tr>\n",
       "      <th>13</th>\n",
       "      <td>Augusto da Rosa</td>\n",
       "      <td>10/11/2022</td>\n",
       "      <td>5397</td>\n",
       "    </tr>\n",
       "    <tr>\n",
       "      <th>14</th>\n",
       "      <td>Srta. Elisa Martins</td>\n",
       "      <td>16/07/2023</td>\n",
       "      <td>5302</td>\n",
       "    </tr>\n",
       "  </tbody>\n",
       "</table>\n",
       "</div>"
      ],
      "text/plain": [
       "                       Nome Data de Admissão Matricula\n",
       "0            Mariane Farias       05/11/2023      5648\n",
       "1            Emanuel Castro       17/09/2022      5490\n",
       "2            Bernardo Nunes       08/01/2023      5690\n",
       "3         Emanuella Peixoto       27/10/2023      5624\n",
       "4   Dr. Henrique Nascimento       27/03/2023      5946\n",
       "5            Isaac Teixeira       05/09/2023      5702\n",
       "6           Emanuel da Cruz       23/11/2023      5776\n",
       "7           Eduardo Correia       05/06/2023      5171\n",
       "8              Isabel Gomes       20/02/2022      5192\n",
       "9              Kaique Pinto       30/12/2023      5572\n",
       "10             Sophie Viana       24/11/2022      5913\n",
       "11             Caio da Mota       02/03/2022      5675\n",
       "12              Pedro Ramos       09/11/2023      5749\n",
       "13          Augusto da Rosa       10/11/2022      5397\n",
       "14      Srta. Elisa Martins       16/07/2023      5302"
      ]
     },
     "execution_count": 4,
     "metadata": {},
     "output_type": "execute_result"
    }
   ],
   "source": [
    "for _ in range(15):\n",
    "    nome_completo = fake.name()\n",
    "    data_admissao = criar_data()\n",
    "    matricula = gerar_matricula()\n",
    "    \n",
    "    dados.append([nome_completo, data_admissao, matricula])\n",
    "\n",
    "#Criar um DataFrame com os dados\n",
    "df = pd.DataFrame(dados, columns=['Nome','Data de Admissão','Matricula'])\n",
    "df"
   ]
  },
  {
   "cell_type": "code",
   "execution_count": 5,
   "id": "feea455c",
   "metadata": {},
   "outputs": [],
   "source": [
    "#Salvar o DataFrame em um arquivo Excel\n",
    "df.to_excel('dados_funcionarios.xlsx', index=False)"
   ]
  }
 ],
 "metadata": {
  "kernelspec": {
   "display_name": "Python 3 (ipykernel)",
   "language": "python",
   "name": "python3"
  },
  "language_info": {
   "codemirror_mode": {
    "name": "ipython",
    "version": 3
   },
   "file_extension": ".py",
   "mimetype": "text/x-python",
   "name": "python",
   "nbconvert_exporter": "python",
   "pygments_lexer": "ipython3",
   "version": "3.11.5"
  }
 },
 "nbformat": 4,
 "nbformat_minor": 5
}
